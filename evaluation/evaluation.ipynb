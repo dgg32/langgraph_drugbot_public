{
 "cells": [
  {
   "cell_type": "code",
   "execution_count": 1,
   "metadata": {},
   "outputs": [],
   "source": [
    "import evaluator\n",
    "import json"
   ]
  },
  {
   "cell_type": "code",
   "execution_count": 2,
   "metadata": {},
   "outputs": [],
   "source": [
    "qa_set = json.load(open('drugbot_data.json'))"
   ]
  },
  {
   "cell_type": "code",
   "execution_count": 3,
   "metadata": {},
   "outputs": [
    {
     "name": "stderr",
     "output_type": "stream",
     "text": [
      "Experiment Classifier-f384ea48 is running at https://www.braintrust.dev/app/Gemini%20Data/p/LLM-as-a-judge/experiments/Classifier-f384ea48\n",
      "LLM-as-a-judge [experiment_name=Classifier] (data): 16it [00:00, 62253.12it/s]\n"
     ]
    },
    {
     "data": {
      "application/vnd.jupyter.widget-view+json": {
       "model_id": "ef69ddf6a19d48d7a6a3a7ddb0cff641",
       "version_major": 2,
       "version_minor": 0
      },
      "text/plain": [
       "LLM-as-a-judge [experiment_name=Classifier] (tasks):   0%|          | 0/16 [00:00<?, ?it/s]"
      ]
     },
     "metadata": {},
     "output_type": "display_data"
    },
    {
     "name": "stdout",
     "output_type": "stream",
     "text": [
      "\n",
      "=========================SUMMARY=========================\n",
      "Classifier-f384ea48 compared to Classifier-be60e85d:\n",
      "90.62% (-) 'five_grader' score\t(0 improvements, 0 regressions)\n",
      "\n",
      "1736337003.24s start\n",
      "1736337008.74s end\n",
      "5.49s (-01.73%) 'duration'         \t(1 improvements, 0 regressions)\n",
      "0tok (-) 'prompt_tokens'    \t(0 improvements, 0 regressions)\n",
      "0tok (-) 'completion_tokens'\t(0 improvements, 0 regressions)\n",
      "0tok (-) 'total_tokens'     \t(0 improvements, 0 regressions)\n",
      "\n",
      "See results for Classifier-f384ea48 at https://www.braintrust.dev/app/Gemini%20Data/p/LLM-as-a-judge/experiments/Classifier-f384ea48\n"
     ]
    }
   ],
   "source": [
    "result = await evaluator.run(qa_set, {\"bot\": \"drugbot\"})"
   ]
  },
  {
   "cell_type": "code",
   "execution_count": null,
   "metadata": {},
   "outputs": [],
   "source": []
  }
 ],
 "metadata": {
  "kernelspec": {
   "display_name": "langgraph",
   "language": "python",
   "name": "python3"
  },
  "language_info": {
   "codemirror_mode": {
    "name": "ipython",
    "version": 3
   },
   "file_extension": ".py",
   "mimetype": "text/x-python",
   "name": "python",
   "nbconvert_exporter": "python",
   "pygments_lexer": "ipython3",
   "version": "3.13.0"
  }
 },
 "nbformat": 4,
 "nbformat_minor": 2
}
